{
 "cells": [
  {
   "cell_type": "code",
   "execution_count": 1,
   "id": "378ba6a3",
   "metadata": {
    "_cell_guid": "b1076dfc-b9ad-4769-8c92-a6c4dae69d19",
    "_uuid": "8f2839f25d086af736a60e9eeb907d3b93b6e0e5",
    "execution": {
     "iopub.execute_input": "2024-03-28T09:22:00.468647Z",
     "iopub.status.busy": "2024-03-28T09:22:00.468028Z",
     "iopub.status.idle": "2024-03-28T09:22:03.128362Z",
     "shell.execute_reply": "2024-03-28T09:22:03.127234Z"
    },
    "papermill": {
     "duration": 2.668459,
     "end_time": "2024-03-28T09:22:03.130831",
     "exception": false,
     "start_time": "2024-03-28T09:22:00.462372",
     "status": "completed"
    },
    "tags": []
   },
   "outputs": [],
   "source": [
    "import pandas as pd\n",
    "import numpy as np\n",
    "from sklearn.model_selection import train_test_split\n",
    "from xgboost import XGBClassifier\n",
    "from sklearn.metrics import roc_auc_score"
   ]
  },
  {
   "cell_type": "code",
   "execution_count": 2,
   "id": "45f80450",
   "metadata": {
    "execution": {
     "iopub.execute_input": "2024-03-28T09:22:03.139812Z",
     "iopub.status.busy": "2024-03-28T09:22:03.138843Z",
     "iopub.status.idle": "2024-03-28T09:22:03.327055Z",
     "shell.execute_reply": "2024-03-28T09:22:03.325503Z"
    },
    "papermill": {
     "duration": 0.194999,
     "end_time": "2024-03-28T09:22:03.329451",
     "exception": false,
     "start_time": "2024-03-28T09:22:03.134452",
     "status": "completed"
    },
    "tags": []
   },
   "outputs": [
    {
     "name": "stdout",
     "output_type": "stream",
     "text": [
      "Loading data...\n",
      "Data loaded successfully!\n"
     ]
    }
   ],
   "source": [
    "# Load data\n",
    "# Load data\n",
    "print(\"Loading data...\")\n",
    "train_data = pd.read_csv('/kaggle/input/playground-series-s4e3/train.csv')\n",
    "test_data = pd.read_csv('/kaggle/input/playground-series-s4e3/test.csv')\n",
    "print(\"Data loaded successfully!\")"
   ]
  },
  {
   "cell_type": "code",
   "execution_count": 3,
   "id": "9f3678b8",
   "metadata": {
    "execution": {
     "iopub.execute_input": "2024-03-28T09:22:03.337953Z",
     "iopub.status.busy": "2024-03-28T09:22:03.337319Z",
     "iopub.status.idle": "2024-03-28T09:22:03.358535Z",
     "shell.execute_reply": "2024-03-28T09:22:03.357315Z"
    },
    "papermill": {
     "duration": 0.028284,
     "end_time": "2024-03-28T09:22:03.361165",
     "exception": false,
     "start_time": "2024-03-28T09:22:03.332881",
     "status": "completed"
    },
    "tags": []
   },
   "outputs": [
    {
     "name": "stdout",
     "output_type": "stream",
     "text": [
      "Separating features and target variables...\n"
     ]
    }
   ],
   "source": [
    "# Separate features and target variables\n",
    "print(\"Separating features and target variables...\")\n",
    "X = train_data.drop(columns=['id', 'Pastry', 'Z_Scratch', 'K_Scatch', 'Stains', 'Dirtiness', 'Bumps', 'Other_Faults'])\n",
    "y = train_data[['Pastry', 'Z_Scratch', 'K_Scatch', 'Stains', 'Dirtiness', 'Bumps', 'Other_Faults']]"
   ]
  },
  {
   "cell_type": "code",
   "execution_count": 4,
   "id": "1eaaba8b",
   "metadata": {
    "execution": {
     "iopub.execute_input": "2024-03-28T09:22:03.369746Z",
     "iopub.status.busy": "2024-03-28T09:22:03.369318Z",
     "iopub.status.idle": "2024-03-28T09:22:03.386892Z",
     "shell.execute_reply": "2024-03-28T09:22:03.385459Z"
    },
    "papermill": {
     "duration": 0.024964,
     "end_time": "2024-03-28T09:22:03.389602",
     "exception": false,
     "start_time": "2024-03-28T09:22:03.364638",
     "status": "completed"
    },
    "tags": []
   },
   "outputs": [
    {
     "name": "stdout",
     "output_type": "stream",
     "text": [
      "Splitting data into train and validation sets...\n",
      "Data split completed!\n"
     ]
    }
   ],
   "source": [
    "# Split data into train and validation sets\n",
    "print(\"Splitting data into train and validation sets...\")\n",
    "X_train, X_val, y_train, y_val = train_test_split(X, y, test_size=0.2, random_state=42)\n",
    "print(\"Data split completed!\")"
   ]
  },
  {
   "cell_type": "code",
   "execution_count": 5,
   "id": "d0cbfc87",
   "metadata": {
    "execution": {
     "iopub.execute_input": "2024-03-28T09:22:03.398920Z",
     "iopub.status.busy": "2024-03-28T09:22:03.397990Z",
     "iopub.status.idle": "2024-03-28T09:22:06.574201Z",
     "shell.execute_reply": "2024-03-28T09:22:06.573290Z"
    },
    "papermill": {
     "duration": 3.183388,
     "end_time": "2024-03-28T09:22:06.576631",
     "exception": false,
     "start_time": "2024-03-28T09:22:03.393243",
     "status": "completed"
    },
    "tags": []
   },
   "outputs": [
    {
     "name": "stdout",
     "output_type": "stream",
     "text": [
      "Training model for defect: Pastry\n",
      "Training model for defect: Z_Scratch\n",
      "Training model for defect: K_Scatch\n",
      "Training model for defect: Stains\n",
      "Training model for defect: Dirtiness\n",
      "Training model for defect: Bumps\n",
      "Training model for defect: Other_Faults\n"
     ]
    }
   ],
   "source": [
    "# Train individual models for each defect category\n",
    "def train_model(X_train, y_train, X_val, y_val):\n",
    "    model = XGBClassifier()\n",
    "    model.fit(X_train, y_train)\n",
    "    y_pred = model.predict_proba(X_val)[:, 1]\n",
    "    return model, y_pred\n",
    "\n",
    "models = {}\n",
    "val_preds = np.zeros_like(y_val)\n",
    "\n",
    "for defect in y_train.columns:\n",
    "    print(f\"Training model for defect: {defect}\")\n",
    "    model, y_pred = train_model(X_train, y_train[defect], X_val, y_val[defect])\n",
    "    models[defect] = model\n",
    "    val_preds[:, y_train.columns.get_loc(defect)] = y_pred"
   ]
  },
  {
   "cell_type": "code",
   "execution_count": 6,
   "id": "0488b2e5",
   "metadata": {
    "execution": {
     "iopub.execute_input": "2024-03-28T09:22:06.586947Z",
     "iopub.status.busy": "2024-03-28T09:22:06.586167Z",
     "iopub.status.idle": "2024-03-28T09:22:06.603039Z",
     "shell.execute_reply": "2024-03-28T09:22:06.602255Z"
    },
    "papermill": {
     "duration": 0.024498,
     "end_time": "2024-03-28T09:22:06.605336",
     "exception": false,
     "start_time": "2024-03-28T09:22:06.580838",
     "status": "completed"
    },
    "tags": []
   },
   "outputs": [
    {
     "name": "stdout",
     "output_type": "stream",
     "text": [
      "Overall ROC AUC Score: 0.5\n"
     ]
    }
   ],
   "source": [
    "# Calculate overall ROC AUC score\n",
    "overall_auc = roc_auc_score(y_val, val_preds, average='macro')\n",
    "print(\"Overall ROC AUC Score:\", overall_auc)"
   ]
  },
  {
   "cell_type": "code",
   "execution_count": 7,
   "id": "060b0b28",
   "metadata": {
    "execution": {
     "iopub.execute_input": "2024-03-28T09:22:06.615853Z",
     "iopub.status.busy": "2024-03-28T09:22:06.615436Z",
     "iopub.status.idle": "2024-03-28T09:22:06.621727Z",
     "shell.execute_reply": "2024-03-28T09:22:06.620711Z"
    },
    "papermill": {
     "duration": 0.014162,
     "end_time": "2024-03-28T09:22:06.624043",
     "exception": false,
     "start_time": "2024-03-28T09:22:06.609881",
     "status": "completed"
    },
    "tags": []
   },
   "outputs": [],
   "source": [
    "# Make predictions on test data\n",
    "test_features = test_data.drop(columns=['id'])\n",
    "test_preds = np.zeros((len(test_data), len(y_train.columns)))"
   ]
  },
  {
   "cell_type": "code",
   "execution_count": 8,
   "id": "136d0b1e",
   "metadata": {
    "execution": {
     "iopub.execute_input": "2024-03-28T09:22:06.633687Z",
     "iopub.status.busy": "2024-03-28T09:22:06.633288Z",
     "iopub.status.idle": "2024-03-28T09:22:06.786447Z",
     "shell.execute_reply": "2024-03-28T09:22:06.785614Z"
    },
    "papermill": {
     "duration": 0.160584,
     "end_time": "2024-03-28T09:22:06.788627",
     "exception": false,
     "start_time": "2024-03-28T09:22:06.628043",
     "status": "completed"
    },
    "tags": []
   },
   "outputs": [
    {
     "name": "stdout",
     "output_type": "stream",
     "text": [
      "Making predictions for defect: Pastry\n",
      "Making predictions for defect: Z_Scratch\n",
      "Making predictions for defect: K_Scatch\n",
      "Making predictions for defect: Stains\n",
      "Making predictions for defect: Dirtiness\n",
      "Making predictions for defect: Bumps\n",
      "Making predictions for defect: Other_Faults\n"
     ]
    }
   ],
   "source": [
    "for defect in y_train.columns:\n",
    "    print(f\"Making predictions for defect: {defect}\")\n",
    "    test_preds[:, y_train.columns.get_loc(defect)] = models[defect].predict_proba(test_features)[:, 1]"
   ]
  },
  {
   "cell_type": "code",
   "execution_count": 9,
   "id": "14589df2",
   "metadata": {
    "execution": {
     "iopub.execute_input": "2024-03-28T09:22:06.798443Z",
     "iopub.status.busy": "2024-03-28T09:22:06.798058Z",
     "iopub.status.idle": "2024-03-28T09:22:06.805756Z",
     "shell.execute_reply": "2024-03-28T09:22:06.804969Z"
    },
    "papermill": {
     "duration": 0.015092,
     "end_time": "2024-03-28T09:22:06.807780",
     "exception": false,
     "start_time": "2024-03-28T09:22:06.792688",
     "status": "completed"
    },
    "tags": []
   },
   "outputs": [],
   "source": [
    "# Prepare submission file\n",
    "submission = pd.DataFrame(test_preds, columns=y_train.columns)\n",
    "submission['id'] = test_data['id']\n",
    "submission = submission[['id', 'Pastry', 'Z_Scratch', 'K_Scatch', 'Stains', 'Dirtiness', 'Bumps', 'Other_Faults']]"
   ]
  },
  {
   "cell_type": "code",
   "execution_count": 10,
   "id": "383e89d8",
   "metadata": {
    "execution": {
     "iopub.execute_input": "2024-03-28T09:22:06.817967Z",
     "iopub.status.busy": "2024-03-28T09:22:06.817229Z",
     "iopub.status.idle": "2024-03-28T09:22:07.005679Z",
     "shell.execute_reply": "2024-03-28T09:22:07.004665Z"
    },
    "papermill": {
     "duration": 0.196329,
     "end_time": "2024-03-28T09:22:07.008156",
     "exception": false,
     "start_time": "2024-03-28T09:22:06.811827",
     "status": "completed"
    },
    "tags": []
   },
   "outputs": [
    {
     "name": "stdout",
     "output_type": "stream",
     "text": [
      "Submission file saved successfully!\n"
     ]
    }
   ],
   "source": [
    "# Save submission file\n",
    "submission.to_csv('submission.csv', index=False)\n",
    "print(\"Submission file saved successfully!\")"
   ]
  }
 ],
 "metadata": {
  "kaggle": {
   "accelerator": "none",
   "dataSources": [
    {
     "databundleVersionId": 7659021,
     "sourceId": 68699,
     "sourceType": "competition"
    },
    {
     "datasetId": 4685358,
     "sourceId": 7964058,
     "sourceType": "datasetVersion"
    }
   ],
   "dockerImageVersionId": 30673,
   "isGpuEnabled": false,
   "isInternetEnabled": true,
   "language": "python",
   "sourceType": "notebook"
  },
  "kernelspec": {
   "display_name": "Python 3",
   "language": "python",
   "name": "python3"
  },
  "language_info": {
   "codemirror_mode": {
    "name": "ipython",
    "version": 3
   },
   "file_extension": ".py",
   "mimetype": "text/x-python",
   "name": "python",
   "nbconvert_exporter": "python",
   "pygments_lexer": "ipython3",
   "version": "3.10.13"
  },
  "papermill": {
   "default_parameters": {},
   "duration": 10.019702,
   "end_time": "2024-03-28T09:22:07.633896",
   "environment_variables": {},
   "exception": null,
   "input_path": "__notebook__.ipynb",
   "output_path": "__notebook__.ipynb",
   "parameters": {},
   "start_time": "2024-03-28T09:21:57.614194",
   "version": "2.5.0"
  }
 },
 "nbformat": 4,
 "nbformat_minor": 5
}
